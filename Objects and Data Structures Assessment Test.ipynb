{
 "cells": [
  {
   "cell_type": "code",
   "execution_count": 1,
   "id": "058916a4",
   "metadata": {},
   "outputs": [
    {
     "data": {
      "text/plain": [
       "100.25"
      ]
     },
     "execution_count": 1,
     "metadata": {},
     "output_type": "execute_result"
    }
   ],
   "source": [
    "50+50.25"
   ]
  },
  {
   "cell_type": "code",
   "execution_count": 5,
   "id": "dcb5a35c",
   "metadata": {},
   "outputs": [
    {
     "data": {
      "text/plain": [
       "100.25"
      ]
     },
     "execution_count": 5,
     "metadata": {},
     "output_type": "execute_result"
    }
   ],
   "source": [
    "150.25-50"
   ]
  },
  {
   "cell_type": "code",
   "execution_count": 13,
   "id": "17df207c",
   "metadata": {},
   "outputs": [
    {
     "data": {
      "text/plain": [
       "100.25"
      ]
     },
     "execution_count": 13,
     "metadata": {},
     "output_type": "execute_result"
    }
   ],
   "source": [
    "50.125*2"
   ]
  },
  {
   "cell_type": "code",
   "execution_count": 17,
   "id": "fbbb33e9",
   "metadata": {},
   "outputs": [
    {
     "data": {
      "text/plain": [
       "100.25"
      ]
     },
     "execution_count": 17,
     "metadata": {},
     "output_type": "execute_result"
    }
   ],
   "source": [
    "200.5/2"
   ]
  },
  {
   "cell_type": "code",
   "execution_count": 18,
   "id": "bd2e2240",
   "metadata": {},
   "outputs": [
    {
     "data": {
      "text/plain": [
       "44"
      ]
     },
     "execution_count": 18,
     "metadata": {},
     "output_type": "execute_result"
    }
   ],
   "source": [
    "4*(6+5)"
   ]
  },
  {
   "cell_type": "code",
   "execution_count": 19,
   "id": "a29891c3",
   "metadata": {},
   "outputs": [
    {
     "data": {
      "text/plain": [
       "29"
      ]
     },
     "execution_count": 19,
     "metadata": {},
     "output_type": "execute_result"
    }
   ],
   "source": [
    "4*6+5"
   ]
  },
  {
   "cell_type": "code",
   "execution_count": 20,
   "id": "655f1926",
   "metadata": {},
   "outputs": [
    {
     "data": {
      "text/plain": [
       "34"
      ]
     },
     "execution_count": 20,
     "metadata": {},
     "output_type": "execute_result"
    }
   ],
   "source": [
    "4+6*5"
   ]
  },
  {
   "cell_type": "code",
   "execution_count": 26,
   "id": "6f0577b9",
   "metadata": {},
   "outputs": [
    {
     "data": {
      "text/plain": [
       "float"
      ]
     },
     "execution_count": 26,
     "metadata": {},
     "output_type": "execute_result"
    }
   ],
   "source": [
    "type(3 + 1.5 + 4)"
   ]
  },
  {
   "cell_type": "code",
   "execution_count": 78,
   "id": "a35c3639",
   "metadata": {},
   "outputs": [
    {
     "data": {
      "text/plain": [
       "5.0"
      ]
     },
     "execution_count": 78,
     "metadata": {},
     "output_type": "execute_result"
    }
   ],
   "source": [
    "# Square root\n",
    "\n",
    "25**(0.5)"
   ]
  },
  {
   "cell_type": "code",
   "execution_count": 79,
   "id": "b0aff074",
   "metadata": {},
   "outputs": [
    {
     "data": {
      "text/plain": [
       "25"
      ]
     },
     "execution_count": 79,
     "metadata": {},
     "output_type": "execute_result"
    }
   ],
   "source": [
    "#Square\n",
    "\n",
    "5**2"
   ]
  },
  {
   "cell_type": "code",
   "execution_count": 42,
   "id": "9a1e4d40",
   "metadata": {},
   "outputs": [
    {
     "data": {
      "text/plain": [
       "'e'"
      ]
     },
     "execution_count": 42,
     "metadata": {},
     "output_type": "execute_result"
    }
   ],
   "source": [
    "s = 'hello'\n",
    "string = s[1]\n",
    "string"
   ]
  },
  {
   "cell_type": "code",
   "execution_count": 67,
   "id": "ffc8d5c9",
   "metadata": {},
   "outputs": [
    {
     "data": {
      "text/plain": [
       "'olleh'"
      ]
     },
     "execution_count": 67,
     "metadata": {},
     "output_type": "execute_result"
    }
   ],
   "source": [
    "# Slicing Reverse\n",
    "\n",
    "s = 'hello'\n",
    "s[::-1]"
   ]
  },
  {
   "cell_type": "code",
   "execution_count": 72,
   "id": "10834302",
   "metadata": {},
   "outputs": [
    {
     "data": {
      "text/plain": [
       "'olleh'"
      ]
     },
     "execution_count": 72,
     "metadata": {},
     "output_type": "execute_result"
    }
   ],
   "source": [
    "# Slicing another syntax\n",
    "\n",
    "h=\"hello\"\n",
    "h[slice(None,None,-1)]"
   ]
  },
  {
   "cell_type": "code",
   "execution_count": 85,
   "id": "8da32bdb",
   "metadata": {},
   "outputs": [
    {
     "data": {
      "text/plain": [
       "'o'"
      ]
     },
     "execution_count": 85,
     "metadata": {},
     "output_type": "execute_result"
    }
   ],
   "source": [
    "# Print out the 'o'\n",
    "# Method 1:\n",
    "\n",
    "s = 'hello'\n",
    "string =s[4]\n",
    "string"
   ]
  },
  {
   "cell_type": "code",
   "execution_count": 88,
   "id": "766c32aa",
   "metadata": {},
   "outputs": [
    {
     "data": {
      "text/plain": [
       "'o'"
      ]
     },
     "execution_count": 88,
     "metadata": {},
     "output_type": "execute_result"
    }
   ],
   "source": [
    "# Method 2:\n",
    "\n",
    "s = 'hello'\n",
    "string = s[-1]\n",
    "string"
   ]
  },
  {
   "cell_type": "code",
   "execution_count": 94,
   "id": "76bc9bae",
   "metadata": {},
   "outputs": [
    {
     "data": {
      "text/plain": [
       "[0, 0, 0]"
      ]
     },
     "execution_count": 94,
     "metadata": {},
     "output_type": "execute_result"
    }
   ],
   "source": [
    "#Build this list [0,0,0] two separate ways:\n",
    "# Method 1:\n",
    "\n",
    "list1 = [0,0,0]\n",
    "list1"
   ]
  },
  {
   "cell_type": "code",
   "execution_count": 96,
   "id": "b74deb41",
   "metadata": {},
   "outputs": [
    {
     "name": "stdout",
     "output_type": "stream",
     "text": [
      "[0, 0, 0]\n"
     ]
    }
   ],
   "source": [
    "# Method 2:\n",
    "\n",
    "list2 = [0,0,0]\n",
    "print (list2)"
   ]
  },
  {
   "cell_type": "code",
   "execution_count": 102,
   "id": "cd04826a",
   "metadata": {},
   "outputs": [
    {
     "name": "stdout",
     "output_type": "stream",
     "text": [
      "[1, 2, [3, 4]]\n",
      "[1, 2, [3, 4, 'goodbye']]\n"
     ]
    }
   ],
   "source": [
    "#Reassign 'hello' in this nested list to say 'goodbye' instead:\n",
    "\n",
    "list3 = [1,2,[3,4,'hello']]\n",
    "list3[2].pop(2)\n",
    "print (list3)\n",
    "list3[2].append('goodbye')\n",
    "print (list3)"
   ]
  },
  {
   "cell_type": "code",
   "execution_count": 105,
   "id": "5dea8bfd",
   "metadata": {},
   "outputs": [
    {
     "name": "stdout",
     "output_type": "stream",
     "text": [
      "[1, 3, 4, 5, 6]\n"
     ]
    }
   ],
   "source": [
    "#Sort the list below:\n",
    "\n",
    "list4 = [5,3,4,6,1]\n",
    "list4.sort()\n",
    "print (list4)"
   ]
  },
  {
   "cell_type": "code",
   "execution_count": 108,
   "id": "cbb64884",
   "metadata": {},
   "outputs": [
    {
     "data": {
      "text/plain": [
       "'hello'"
      ]
     },
     "execution_count": 108,
     "metadata": {},
     "output_type": "execute_result"
    }
   ],
   "source": [
    "d = {'simple_key':'hello'}\n",
    "# Grab 'hello'\n",
    "d['simple_key']"
   ]
  },
  {
   "cell_type": "code",
   "execution_count": 110,
   "id": "567b100a",
   "metadata": {},
   "outputs": [
    {
     "data": {
      "text/plain": [
       "'hello'"
      ]
     },
     "execution_count": 110,
     "metadata": {},
     "output_type": "execute_result"
    }
   ],
   "source": [
    "d = {'k1':{'k2':'hello'}}\n",
    "# Grab 'hello'\n",
    "d['k1']['k2']"
   ]
  },
  {
   "cell_type": "code",
   "execution_count": 113,
   "id": "fed0dcf5",
   "metadata": {},
   "outputs": [
    {
     "data": {
      "text/plain": [
       "['hello']"
      ]
     },
     "execution_count": 113,
     "metadata": {},
     "output_type": "execute_result"
    }
   ],
   "source": [
    "# Getting a little tricker\n",
    "d = {'k1':[{'nest_key':['this is deep',['hello']]}]}\n",
    "\n",
    "#Grab hello\n",
    "d['k1'][0]['nest_key'][1]"
   ]
  },
  {
   "cell_type": "code",
   "execution_count": 116,
   "id": "9e23d210",
   "metadata": {},
   "outputs": [
    {
     "data": {
      "text/plain": [
       "['hello']"
      ]
     },
     "execution_count": 116,
     "metadata": {},
     "output_type": "execute_result"
    }
   ],
   "source": [
    "# This will be hard and annoying!\n",
    "d = {'k1':[1,2,{'k2':['this is tricky',{'tough':[1,2,['hello']]}]}]}\n",
    "\n",
    "d['k1'][2]['k2'][1]['tough'][2]"
   ]
  },
  {
   "cell_type": "code",
   "execution_count": 121,
   "id": "c882058e",
   "metadata": {},
   "outputs": [
    {
     "data": {
      "text/plain": [
       "{1, 2, 3, 4, 11, 22, 33}"
      ]
     },
     "execution_count": 121,
     "metadata": {},
     "output_type": "execute_result"
    }
   ],
   "source": [
    "#Use a set to find the unique values of the list below:\n",
    "\n",
    "list5 = [1,2,2,33,4,4,11,22,3,3,2]\n",
    "x= set(list5)\n",
    "x"
   ]
  },
  {
   "cell_type": "code",
   "execution_count": 122,
   "id": "7c9f833d",
   "metadata": {},
   "outputs": [
    {
     "data": {
      "text/plain": [
       "False"
      ]
     },
     "execution_count": 122,
     "metadata": {},
     "output_type": "execute_result"
    }
   ],
   "source": [
    "# Answer before running cell\n",
    "2 > 3"
   ]
  },
  {
   "cell_type": "code",
   "execution_count": 123,
   "id": "9f1efe2d",
   "metadata": {},
   "outputs": [
    {
     "data": {
      "text/plain": [
       "False"
      ]
     },
     "execution_count": 123,
     "metadata": {},
     "output_type": "execute_result"
    }
   ],
   "source": [
    "3 <= 2"
   ]
  },
  {
   "cell_type": "code",
   "execution_count": 124,
   "id": "3290222c",
   "metadata": {},
   "outputs": [
    {
     "data": {
      "text/plain": [
       "False"
      ]
     },
     "execution_count": 124,
     "metadata": {},
     "output_type": "execute_result"
    }
   ],
   "source": [
    "3 == 2.0"
   ]
  },
  {
   "cell_type": "code",
   "execution_count": 125,
   "id": "abe1539d",
   "metadata": {},
   "outputs": [
    {
     "data": {
      "text/plain": [
       "True"
      ]
     },
     "execution_count": 125,
     "metadata": {},
     "output_type": "execute_result"
    }
   ],
   "source": [
    "3.0 == 3"
   ]
  },
  {
   "cell_type": "code",
   "execution_count": 128,
   "id": "721719da",
   "metadata": {},
   "outputs": [
    {
     "data": {
      "text/plain": [
       "False"
      ]
     },
     "execution_count": 128,
     "metadata": {},
     "output_type": "execute_result"
    }
   ],
   "source": [
    "4**0.5 != 2"
   ]
  },
  {
   "cell_type": "code",
   "execution_count": 129,
   "id": "c3d3798c",
   "metadata": {},
   "outputs": [
    {
     "data": {
      "text/plain": [
       "False"
      ]
     },
     "execution_count": 129,
     "metadata": {},
     "output_type": "execute_result"
    }
   ],
   "source": [
    "#What is the boolean output of the cell block below?\n",
    "\n",
    "# two nested lists\n",
    "l_one = [1,2,[3,4]]\n",
    "l_two = [1,2,{'k1':4}]\n",
    "\n",
    "# True or False?\n",
    "l_one[2][0] >= l_two[2]['k1']"
   ]
  }
 ],
 "metadata": {
  "kernelspec": {
   "display_name": "Python 3 (ipykernel)",
   "language": "python",
   "name": "python3"
  },
  "language_info": {
   "codemirror_mode": {
    "name": "ipython",
    "version": 3
   },
   "file_extension": ".py",
   "mimetype": "text/x-python",
   "name": "python",
   "nbconvert_exporter": "python",
   "pygments_lexer": "ipython3",
   "version": "3.9.7"
  }
 },
 "nbformat": 4,
 "nbformat_minor": 5
}
